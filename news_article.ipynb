{
 "cells": [
  {
   "cell_type": "code",
   "execution_count": 1,
   "id": "77a34aba",
   "metadata": {},
   "outputs": [],
   "source": [
    "# STEP 1: Import Libraries\n",
    "import pandas as pd\n",
    "import re\n",
    "import spacy\n",
    "import nltk\n",
    "from nltk.corpus import stopwords\n",
    "from sklearn.model_selection import train_test_split\n",
    "from sklearn.feature_extraction.text import TfidfVectorizer\n",
    "from sklearn.linear_model import LogisticRegression\n",
    "from sklearn.naive_bayes import MultinomialNB\n",
    "from sklearn.ensemble import RandomForestClassifier\n",
    "from sklearn.metrics import classification_report, confusion_matrix\n",
    "import joblib\n",
    "from xgboost import XGBClassifier\n"
   ]
  },
  {
   "cell_type": "code",
   "execution_count": 2,
   "id": "f201d10f",
   "metadata": {},
   "outputs": [
    {
     "name": "stderr",
     "output_type": "stream",
     "text": [
      "[nltk_data] Downloading package stopwords to\n",
      "[nltk_data]     C:\\Users\\srija\\AppData\\Roaming\\nltk_data...\n",
      "[nltk_data]   Package stopwords is already up-to-date!\n"
     ]
    }
   ],
   "source": [
    "# STEP 2: Setup Environment\n",
    "nltk.download('stopwords')\n",
    "stop_words = set(stopwords.words('english'))\n",
    "nlp = spacy.load(\"en_core_web_sm\")"
   ]
  },
  {
   "cell_type": "code",
   "execution_count": 3,
   "id": "84061722",
   "metadata": {},
   "outputs": [],
   "source": [
    "# STEP 3: Load and Combine the Dataset\n",
    "def load_dataset():\n",
    "    paths = {\n",
    "        \"Business\": \"news_dataset/business_data.csv\",\n",
    "        \"Education\": \"news_dataset/education_data.csv\",\n",
    "        \"Entertainment\": \"news_dataset/entertainment_data.csv\",\n",
    "        \"Sports\": \"news_dataset/sports_data.csv\",\n",
    "        \"Technology\": \"news_dataset/technology_data.csv\"\n",
    "    }\n",
    "    all_data = []\n",
    "    for category, path in paths.items():\n",
    "        df = pd.read_csv(path)\n",
    "        df[\"Category\"] = category\n",
    "        all_data.append(df)\n",
    "    return pd.concat(all_data, ignore_index=True)\n",
    "\n",
    "df = load_dataset()"
   ]
  },
  {
   "cell_type": "code",
   "execution_count": null,
   "id": "41895cc2",
   "metadata": {},
   "outputs": [],
   "source": [
    "# STEP 4: Text Preprocessing\n",
    "def preprocess_text(text):\n",
    "    text = re.sub(r'\\W+|\\d+', ' ', str(text).lower())\n",
    "    doc = nlp(text)\n",
    "    tokens = [token.lemma_ for token in doc if token.text not in stop_words and not token.is_punct]\n",
    "    return \" \".join(tokens)\n",
    "\n",
    "df['text'] = df['headlines'].fillna('') + ' ' + df['description'].fillna('') + ' ' + df['content'].fillna('')\n",
    "df['clean_text'] = df['text'].apply(preprocess_text)"
   ]
  },
  {
   "cell_type": "code",
   "execution_count": null,
   "id": "34488589",
   "metadata": {},
   "outputs": [],
   "source": [
    "# STEP 5: TF-IDF Vectorization\n",
    "vectorizer = TfidfVectorizer(max_features=5000, ngram_range=(1, 2))\n",
    "X = vectorizer.fit_transform(df['clean_text'])\n",
    "y = df['Category']"
   ]
  },
  {
   "cell_type": "code",
   "execution_count": null,
   "id": "7505d0ad",
   "metadata": {},
   "outputs": [],
   "source": [
    "from sklearn.preprocessing import LabelEncoder\n",
    "\n",
    "# Encode string labels to integers\n",
    "label_encoder = LabelEncoder()\n",
    "y_encoded = label_encoder.fit_transform(y)\n",
    "\n",
    "# Now use y_encoded instead of y in your train-test split\n",
    "X_train, X_test, y_train, y_test = train_test_split(X, y_encoded, test_size=0.2, random_state=42, stratify=y_encoded)\n"
   ]
  },
  {
   "cell_type": "code",
   "execution_count": null,
   "id": "134656ad",
   "metadata": {},
   "outputs": [],
   "source": [
    "from sklearn.model_selection import GridSearchCV\n"
   ]
  },
  {
   "cell_type": "code",
   "execution_count": null,
   "id": "eed2038c",
   "metadata": {},
   "outputs": [
    {
     "name": "stdout",
     "output_type": "stream",
     "text": [
      "\n",
      " Training Logistic Regression...\n",
      " Evaluation for Logistic Regression\n",
      "               precision    recall  f1-score   support\n",
      "\n",
      "     Business       0.97      0.96      0.97       400\n",
      "    Education       1.00      0.99      0.99       400\n",
      "Entertainment       0.99      0.99      0.99       400\n",
      "       Sports       0.99      0.99      0.99       400\n",
      "   Technology       0.95      0.97      0.96       400\n",
      "\n",
      "     accuracy                           0.98      2000\n",
      "    macro avg       0.98      0.98      0.98      2000\n",
      " weighted avg       0.98      0.98      0.98      2000\n",
      "\n",
      "Confusion Matrix:\n",
      " [[386   0   2   0  12]\n",
      " [  2 395   0   0   3]\n",
      " [  0   0 396   1   3]\n",
      " [  0   0   0 397   3]\n",
      " [  9   0   0   2 389]]\n",
      "\n",
      " Training Multinomial Naive Bayes...\n",
      " Evaluation for Multinomial Naive Bayes\n",
      "               precision    recall  f1-score   support\n",
      "\n",
      "     Business       0.97      0.96      0.97       400\n",
      "    Education       1.00      0.99      0.99       400\n",
      "Entertainment       0.99      0.99      0.99       400\n",
      "       Sports       0.98      0.99      0.99       400\n",
      "   Technology       0.95      0.97      0.96       400\n",
      "\n",
      "     accuracy                           0.98      2000\n",
      "    macro avg       0.98      0.98      0.98      2000\n",
      " weighted avg       0.98      0.98      0.98      2000\n",
      "\n",
      "Confusion Matrix:\n",
      " [[384   0   1   1  14]\n",
      " [  1 396   0   0   3]\n",
      " [  0   0 396   3   1]\n",
      " [  0   0   2 395   3]\n",
      " [  9   0   1   3 387]]\n",
      "\n",
      " Training Random Forest...\n",
      " Evaluation for Random Forest\n",
      "               precision    recall  f1-score   support\n",
      "\n",
      "     Business       0.96      0.96      0.96       400\n",
      "    Education       0.99      0.99      0.99       400\n",
      "Entertainment       0.99      0.97      0.98       400\n",
      "       Sports       0.98      0.98      0.98       400\n",
      "   Technology       0.92      0.96      0.94       400\n",
      "\n",
      "     accuracy                           0.97      2000\n",
      "    macro avg       0.97      0.97      0.97      2000\n",
      " weighted avg       0.97      0.97      0.97      2000\n",
      "\n",
      "Confusion Matrix:\n",
      " [[384   1   1   1  13]\n",
      " [  3 395   0   0   2]\n",
      " [  0   0 387   2  11]\n",
      " [  1   1   0 392   6]\n",
      " [ 10   2   1   3 384]]\n",
      "\n",
      " Training XGBoost...\n"
     ]
    },
    {
     "name": "stderr",
     "output_type": "stream",
     "text": [
      "c:\\Users\\srija\\AppData\\Local\\Programs\\Python\\Python311\\Lib\\site-packages\\xgboost\\core.py:158: UserWarning: [13:13:02] WARNING: C:\\buildkite-agent\\builds\\buildkite-windows-cpu-autoscaling-group-i-0c55ff5f71b100e98-1\\xgboost\\xgboost-ci-windows\\src\\learner.cc:740: \n",
      "Parameters: { \"use_label_encoder\" } are not used.\n",
      "\n",
      "  warnings.warn(smsg, UserWarning)\n"
     ]
    },
    {
     "name": "stdout",
     "output_type": "stream",
     "text": [
      " Evaluation for XGBoost\n",
      "               precision    recall  f1-score   support\n",
      "\n",
      "     Business       0.98      0.96      0.97       400\n",
      "    Education       0.99      0.99      0.99       400\n",
      "Entertainment       0.99      0.98      0.99       400\n",
      "       Sports       0.99      0.98      0.99       400\n",
      "   Technology       0.94      0.96      0.95       400\n",
      "\n",
      "     accuracy                           0.98      2000\n",
      "    macro avg       0.98      0.98      0.98      2000\n",
      " weighted avg       0.98      0.98      0.98      2000\n",
      "\n",
      "Confusion Matrix:\n",
      " [[385   1   1   0  13]\n",
      " [  2 396   0   0   2]\n",
      " [  1   1 393   0   5]\n",
      " [  2   1   0 394   3]\n",
      " [  4   3   3   5 385]]\n"
     ]
    }
   ],
   "source": [
    "logreg_params = {\n",
    "    'C': [0.01, 0.1, 1, 10],\n",
    "    'solver': ['liblinear', 'lbfgs']\n",
    "}\n",
    "\n",
    "rf_params = {\n",
    "    'n_estimators': [50, 100],\n",
    "    'max_depth': [None, 10, 20],\n",
    "    'min_samples_split': [2, 5]\n",
    "}\n",
    "\n",
    "# Initialize models for tuning\n",
    "logreg_grid = GridSearchCV(LogisticRegression(max_iter=1000), logreg_params, cv=5, scoring='accuracy', verbose=1)\n",
    "rf_grid = GridSearchCV(RandomForestClassifier(random_state=42), rf_params, cv=5, scoring='accuracy', verbose=1)\n",
    "\n",
    "# Direct models without tuning\n",
    "nb_model = MultinomialNB()\n",
    "xgb_model = XGBClassifier(use_label_encoder=False, eval_metric='mlogloss', random_state=42)\n",
    "\n",
    "# Dictionary to manage all models\n",
    "models = {\n",
    "    \"Logistic Regression (Tuned)\": logreg_grid,\n",
    "    \"Multinomial Naive Bayes\": nb_model,\n",
    "    \"Random Forest (Tuned)\": rf_grid,\n",
    "    \"XGBoost\": xgb_model\n",
    "}\n",
    "\n",
    "# Train and evaluate models\n",
    "for name, model in models.items():\n",
    "    print(f\"\\nTraining {name}...\")\n",
    "    model.fit(X_train, y_train)\n",
    "    \n",
    "    if \"GridSearchCV\" in str(type(model)):\n",
    "        print(f\"Best parameters for {name}: {model.best_params_}\")\n",
    "        best_model = model.best_estimator_\n",
    "    else:\n",
    "        best_model = model\n",
    "\n",
    "    y_pred = best_model.predict(X_test)\n",
    "\n",
    "    # Decode numeric predictions back to original category names\n",
    "    y_pred_labels = label_encoder.inverse_transform(y_pred)\n",
    "    y_test_labels = label_encoder.inverse_transform(y_test)\n",
    "\n",
    "    # Evaluation\n",
    "    print(f\"\\nEvaluation for {name}\")\n",
    "    print(classification_report(y_test_labels, y_pred_labels))\n",
    "    print(\"Confusion Matrix:\\n\", confusion_matrix(y_test_labels, y_pred_labels))"
   ]
  },
  {
   "cell_type": "code",
   "execution_count": null,
   "id": "63c4f78f",
   "metadata": {},
   "outputs": [
    {
     "name": "stdout",
     "output_type": "stream",
     "text": [
      "\n",
      " Model and vectorizer saved successfully!\n"
     ]
    }
   ],
   "source": [
    "# STEP 8: Save Best Model and Vectorizer\n",
    "best_model = models[\"Logistic Regression\"]\n",
    "joblib.dump(best_model, \"final_model.joblib\")\n",
    "joblib.dump(vectorizer, \"vectorizer.joblib\")\n",
    "print(\"\\n Model and vectorizer saved successfully!\")"
   ]
  },
  {
   "cell_type": "code",
   "execution_count": null,
   "id": "b38eed08",
   "metadata": {},
   "outputs": [
    {
     "name": "stdout",
     "output_type": "stream",
     "text": [
      " Predictions saved to predictions.csv\n"
     ]
    }
   ],
   "source": [
    "# STEP 9: Save Predictions\n",
    "df_test = pd.DataFrame(X_test.toarray(), columns=vectorizer.get_feature_names_out())\n",
    "\n",
    "# Decode actual and predicted labels back to original category names\n",
    "df_test[\"Actual\"] = label_encoder.inverse_transform(y_test)\n",
    "df_test[\"Predicted\"] = label_encoder.inverse_transform(best_model.predict(X_test))\n",
    "\n",
    "df_test.to_csv(\"predictions.csv\", index=False)\n",
    "print(\" Predictions saved to predictions.csv\")\n"
   ]
  },
  {
   "cell_type": "markdown",
   "id": "41eb54dc",
   "metadata": {},
   "source": [
    "Confusion Matrix Plot"
   ]
  },
  {
   "cell_type": "code",
   "execution_count": null,
   "id": "ae79bc57",
   "metadata": {},
   "outputs": [
    {
     "data": {
      "image/png": "[encoded data removed]",
      "text/plain": [
       "<Figure size 800x600 with 2 Axes>"
      ]
     },
     "metadata": {},
     "output_type": "display_data"
    }
   ],
   "source": [
    "import matplotlib.pyplot as plt\n",
    "import seaborn as sns\n",
    "import numpy as np\n",
    "from sklearn.metrics import confusion_matrix\n",
    "\n",
    "# Use label-encoded values for confusion matrix and decode labels for axis\n",
    "encoded_labels = np.unique(y_test)\n",
    "decoded_labels = label_encoder.inverse_transform(encoded_labels)\n",
    "\n",
    "# Confusion matrix\n",
    "cm = confusion_matrix(y_test, y_pred, labels=encoded_labels)\n",
    "\n",
    "# Plot heatmap\n",
    "plt.figure(figsize=(8, 6))\n",
    "sns.heatmap(cm, annot=True, fmt='d', cmap='Blues', xticklabels=decoded_labels, yticklabels=decoded_labels)\n",
    "plt.xlabel(\"Predicted\")\n",
    "plt.ylabel(\"Actual\")\n",
    "plt.title(\"Confusion Matrix\")\n",
    "plt.tight_layout()\n",
    "plt.savefig(\"confusion_matrix.png\")\n",
    "plt.show()\n"
   ]
  },
  {
   "cell_type": "markdown",
   "id": "7bef51aa",
   "metadata": {},
   "source": [
    "Classification Report Metrics Plot"
   ]
  },
  {
   "cell_type": "code",
   "execution_count": null,
   "id": "80a8bd95",
   "metadata": {},
   "outputs": [
    {
     "data": {
      "image/png": "[encoded data removed]",
      "text/plain": [
       "<Figure size 1000x600 with 1 Axes>"
      ]
     },
     "metadata": {},
     "output_type": "display_data"
    }
   ],
   "source": [
    "from sklearn.metrics import classification_report\n",
    "import numpy as np\n",
    "import matplotlib.pyplot as plt\n",
    "\n",
    "# Use the inverse transformed labels\n",
    "y_test_labels = label_encoder.inverse_transform(y_test)\n",
    "y_pred_labels = label_encoder.inverse_transform(y_pred)\n",
    "\n",
    "# Extract sorted unique class names\n",
    "labels = sorted(np.unique(y_test_labels))\n",
    "\n",
    "# Generate the classification report with named labels\n",
    "report = classification_report(y_test_labels, y_pred_labels, target_names=labels, output_dict=True)\n",
    "\n",
    "metrics = ['precision', 'recall', 'f1-score']\n",
    "data = {metric: [report[label][metric] for label in labels] for metric in metrics}\n",
    "\n",
    "x = np.arange(len(labels))\n",
    "width = 0.25\n",
    "\n",
    "plt.figure(figsize=(12, 6))\n",
    "for i, metric in enumerate(metrics):\n",
    "    plt.bar(x + i * width, data[metric], width=width, label=metric.capitalize())\n",
    "\n",
    "plt.xticks(x + width, labels, rotation=45)\n",
    "plt.ylim(0, 1.1)\n",
    "plt.ylabel(\"Score\")\n",
    "plt.title(\"Classification Report Metrics by Category\")\n",
    "plt.legend()\n",
    "plt.tight_layout()\n",
    "plt.savefig(\"classification_report_metrics.png\")\n",
    "plt.show()"
   ]
  }
 ],
 "metadata": {
  "kernelspec": {
   "display_name": "Python 3",
   "language": "python",
   "name": "python3"
  },
  "language_info": {
   "codemirror_mode": {
    "name": "ipython",
    "version": 3
   },
   "file_extension": ".py",
   "mimetype": "text/x-python",
   "name": "python",
   "nbconvert_exporter": "python",
   "pygments_lexer": "ipython3",
   "version": "3.11.4"
  }
 },
 "nbformat": 4,
 "nbformat_minor": 5
}
